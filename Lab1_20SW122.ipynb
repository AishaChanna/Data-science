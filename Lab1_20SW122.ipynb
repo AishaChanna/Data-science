{
  "nbformat": 4,
  "nbformat_minor": 0,
  "metadata": {
    "colab": {
      "provenance": [],
      "authorship_tag": "ABX9TyPaDCTtHo+aD0a9LwQlP0XP",
      "include_colab_link": true
    },
    "kernelspec": {
      "name": "python3",
      "display_name": "Python 3"
    },
    "language_info": {
      "name": "python"
    }
  },
  "cells": [
    {
      "cell_type": "markdown",
      "metadata": {
        "id": "view-in-github",
        "colab_type": "text"
      },
      "source": [
        "<a href=\"https://colab.research.google.com/github/AishaChanna/Data-science/blob/main/Lab1_20SW122.ipynb\" target=\"_parent\"><img src=\"https://colab.research.google.com/assets/colab-badge.svg\" alt=\"Open In Colab\"/></a>"
      ]
    },
    {
      "cell_type": "markdown",
      "source": [
        "Lab# 01\n",
        "RollNo:20SW122\n",
        "Section:2"
      ],
      "metadata": {
        "id": "AmltCdmmKFJr"
      }
    },
    {
      "cell_type": "markdown",
      "source": [
        "Task#1"
      ],
      "metadata": {
        "id": "2ek3saJANPPc"
      }
    },
    {
      "cell_type": "code",
      "source": [
        "variable1 = 122\n",
        "variable2 = \"Aisha, 20SW122!\""
      ],
      "metadata": {
        "id": "ynJehQttLTtY"
      },
      "execution_count": null,
      "outputs": []
    },
    {
      "cell_type": "code",
      "source": [
        "variable1 = 122\n",
        "variable2 = \"Hello, World!\"\n",
        "\n",
        "print(\"it is lab 1 is {} and the value of var2 is '{}'.\".format(variable1, variable2))\n"
      ],
      "metadata": {
        "colab": {
          "base_uri": "https://localhost:8080/"
        },
        "id": "GdA5rn_-LjZp",
        "outputId": "a37b77f7-6277-49be-eca3-f249f7e89fdd"
      },
      "execution_count": null,
      "outputs": [
        {
          "output_type": "stream",
          "name": "stdout",
          "text": [
            "it is lab 1 is 122 and the value of var2 is 'Hello, World!'.\n"
          ]
        }
      ]
    },
    {
      "cell_type": "markdown",
      "source": [
        "Task#2"
      ],
      "metadata": {
        "id": "cvvrwAtWNqIQ"
      }
    },
    {
      "cell_type": "markdown",
      "source": [
        "String example"
      ],
      "metadata": {
        "id": "YdvtmbU7Oqe7"
      }
    },
    {
      "cell_type": "code",
      "source": [
        "my_string = \"python, 20sw122!\"\n",
        "\n"
      ],
      "metadata": {
        "id": "wl337yVgODhB"
      },
      "execution_count": null,
      "outputs": []
    },
    {
      "cell_type": "markdown",
      "source": [
        "# Using string methods\n"
      ],
      "metadata": {
        "id": "TqcTWf9GOz6h"
      }
    },
    {
      "cell_type": "code",
      "source": [
        "print(my_string.upper())"
      ],
      "metadata": {
        "colab": {
          "base_uri": "https://localhost:8080/"
        },
        "id": "Lfq8-C9EO3bH",
        "outputId": "3d4e4369-3665-43cd-cf07-bc2c2266726d"
      },
      "execution_count": null,
      "outputs": [
        {
          "output_type": "stream",
          "name": "stdout",
          "text": [
            "PYTHON, 20SW122!\n"
          ]
        }
      ]
    },
    {
      "cell_type": "code",
      "source": [
        "print(my_string.lower())"
      ],
      "metadata": {
        "colab": {
          "base_uri": "https://localhost:8080/"
        },
        "id": "K0Qo5MEvPSnV",
        "outputId": "e7466a74-2dc5-4a9d-ffde-2dbb482db842"
      },
      "execution_count": null,
      "outputs": [
        {
          "output_type": "stream",
          "name": "stdout",
          "text": [
            "python, 20sw122!\n"
          ]
        }
      ]
    },
    {
      "cell_type": "code",
      "source": [
        "print(my_string.title())"
      ],
      "metadata": {
        "colab": {
          "base_uri": "https://localhost:8080/"
        },
        "id": "uxUuCIwsPa8s",
        "outputId": "afae6672-5e15-4018-e2cc-bfc2844462b2"
      },
      "execution_count": null,
      "outputs": [
        {
          "output_type": "stream",
          "name": "stdout",
          "text": [
            "Python, 20Sw122!\n"
          ]
        }
      ]
    },
    {
      "cell_type": "code",
      "source": [
        "print(my_string.strip())"
      ],
      "metadata": {
        "colab": {
          "base_uri": "https://localhost:8080/"
        },
        "id": "KeLomoJtPku5",
        "outputId": "33f80b07-48c3-4715-ebcc-249e510188b4"
      },
      "execution_count": null,
      "outputs": [
        {
          "output_type": "stream",
          "name": "stdout",
          "text": [
            "python, 20sw122!\n"
          ]
        }
      ]
    },
    {
      "cell_type": "markdown",
      "source": [
        "Task# 3"
      ],
      "metadata": {
        "id": "Wb0hJ_XZQlHe"
      }
    },
    {
      "cell_type": "code",
      "source": [
        "month = 8\n",
        "days_in_month = [31, 28, 31, 30, 31, 30, 31, 31, 30, 31, 30, 31]\n",
        "\n",
        "num_days = days_in_month[month-1]\n",
        "print(num_days)"
      ],
      "metadata": {
        "colab": {
          "base_uri": "https://localhost:8080/"
        },
        "id": "xFw4OzhoQohs",
        "outputId": "0d49c669-4359-4ee3-b153-1806bf9d6a03"
      },
      "execution_count": null,
      "outputs": [
        {
          "output_type": "stream",
          "name": "stdout",
          "text": [
            "31\n"
          ]
        }
      ]
    },
    {
      "cell_type": "markdown",
      "source": [
        "Task#4"
      ],
      "metadata": {
        "id": "mLEcRtk3REIh"
      }
    },
    {
      "cell_type": "code",
      "source": [
        "eclipse_dates = ['June 21, 2001', 'December 4, 2002', 'November 23, 2003', 'March 29, 2006', 'August 1, 2008', 'July 22, 2009', 'July 11, 2010', 'November 13, 2012', 'March 20, 2015', 'March 9, 2016']\n",
        "\n",
        "three_most_recent_dates = eclipse_dates[-3:]\n",
        "print(three_most_recent_dates)"
      ],
      "metadata": {
        "colab": {
          "base_uri": "https://localhost:8080/"
        },
        "id": "LLrDdOOARHmc",
        "outputId": "77712942-02ec-480d-b640-3939770f4f79"
      },
      "execution_count": null,
      "outputs": [
        {
          "output_type": "stream",
          "name": "stdout",
          "text": [
            "['November 13, 2012', 'March 20, 2015', 'March 9, 2016']\n"
          ]
        }
      ]
    },
    {
      "cell_type": "markdown",
      "source": [
        "Task#5"
      ],
      "metadata": {
        "id": "j6N3AnuxSTJI"
      }
    },
    {
      "cell_type": "markdown",
      "source": [
        "# Nested dictionary to store student data."
      ],
      "metadata": {
        "id": "P_NdSSVuSoLY"
      }
    },
    {
      "cell_type": "code",
      "source": [
        "dictionary = {'key' : 'value',\n",
        "'key_2': 'value_2'}"
      ],
      "metadata": {
        "id": "JMi68Vl2Sp2X"
      },
      "execution_count": null,
      "outputs": []
    },
    {
      "cell_type": "code",
      "source": [
        "#comp DS\n",
        "dic = {1: {'name': 'aisha', 'age': '20', 'subject': 'DSA'},\n",
        "          2: {'name': 'warda', 'age': '20', 'subject': 'DSA'}}\n",
        "\n",
        "print(dic)"
      ],
      "metadata": {
        "colab": {
          "base_uri": "https://localhost:8080/"
        },
        "id": "JzJ59_QcVzsF",
        "outputId": "05e923d4-9b50-4ac5-ba31-7a6a639eba41"
      },
      "execution_count": null,
      "outputs": [
        {
          "output_type": "stream",
          "name": "stdout",
          "text": [
            "{1: {'name': 'aisha', 'age': '20', 'subject': 'DSA'}, 2: {'name': 'warda', 'age': '20', 'subject': 'DSA'}}\n"
          ]
        }
      ]
    }
  ]
}