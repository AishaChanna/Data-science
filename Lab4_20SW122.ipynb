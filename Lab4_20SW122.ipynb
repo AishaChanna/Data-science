{
  "nbformat": 4,
  "nbformat_minor": 0,
  "metadata": {
    "colab": {
      "provenance": [],
      "authorship_tag": "ABX9TyMZT3E3spRQ6y2nDNoJc8YJ",
      "include_colab_link": true
    },
    "kernelspec": {
      "name": "python3",
      "display_name": "Python 3"
    },
    "language_info": {
      "name": "python"
    }
  },
  "cells": [
    {
      "cell_type": "markdown",
      "metadata": {
        "id": "view-in-github",
        "colab_type": "text"
      },
      "source": [
        "<a href=\"https://colab.research.google.com/github/AishaChanna/Data-science/blob/main/Lab4_20SW122.ipynb\" target=\"_parent\"><img src=\"https://colab.research.google.com/assets/colab-badge.svg\" alt=\"Open In Colab\"/></a>"
      ]
    },
    {
      "cell_type": "markdown",
      "source": [
        "LAB 4\n",
        "Section 2\n",
        "Roll_no: 20SW122\n"
      ],
      "metadata": {
        "id": "VcP7k479Q-5D"
      }
    },
    {
      "cell_type": "markdown",
      "source": [
        "TASK# 1\n",
        "\n",
        "import numpy as np\n",
        "\n",
        "Using the Built-in functions you learned about in the previous lesson, create a 4 x 4 ndarray that only contains consecutive even numbers from 2 to 32 (inclusive)"
      ],
      "metadata": {
        "id": "ccLPt6ghQ3t3"
      }
    },
    {
      "cell_type": "code",
      "source": [
        "import numpy as np\n",
        "\n",
        "# Using the Built-in functions you learned about in the\n",
        "# previous lesson, create a 4 x 4 ndarray that only\n",
        "# contains consecutive even numbers from 2 to 32 (inclusive)\n",
        "\n",
        "x = np.arange(2,33,2)\n",
        "y = x.reshape(4,4)\n",
        "print(y)\n"
      ],
      "metadata": {
        "colab": {
          "base_uri": "https://localhost:8080/"
        },
        "id": "XEYpRSSaP2Mg",
        "outputId": "8db1e73c-8336-4269-8367-22438a11407a"
      },
      "execution_count": 1,
      "outputs": [
        {
          "output_type": "stream",
          "name": "stdout",
          "text": [
            "[[ 2  4  6  8]\n",
            " [10 12 14 16]\n",
            " [18 20 22 24]\n",
            " [26 28 30 32]]\n"
          ]
        }
      ]
    },
    {
      "cell_type": "markdown",
      "source": [
        "TASK# 2\n",
        "\n",
        "Create a 5 x 5 ndarray with consecutive integers from 1 to 25 (inclusive). Afterwards use Boolean indexing to pick out only the odd numbers in the array Create a 5 x 5 ndarray with consecutive integers from 1 to 25 (inclusive). Use Boolean indexing to pick out only the odd numbers in the array\n"
      ],
      "metadata": {
        "id": "nh5BnceVQENa"
      }
    },
    {
      "cell_type": "code",
      "source": [
        "X = np.arange(1,26).reshape(5,5)\n",
        "print(X)\n",
        "# Use Boolean indexing to pick out only the odd numbers in the array\n",
        "Y = X[X%2 !=0]\n",
        "print(Y)"
      ],
      "metadata": {
        "colab": {
          "base_uri": "https://localhost:8080/"
        },
        "id": "Hpwx-ImkQL2o",
        "outputId": "7b878610-db17-48f4-ab9a-5f8bd85b02ce"
      },
      "execution_count": 2,
      "outputs": [
        {
          "output_type": "stream",
          "name": "stdout",
          "text": [
            "[[ 1  2  3  4  5]\n",
            " [ 6  7  8  9 10]\n",
            " [11 12 13 14 15]\n",
            " [16 17 18 19 20]\n",
            " [21 22 23 24 25]]\n",
            "[ 1  3  5  7  9 11 13 15 17 19 21 23 25]\n"
          ]
        }
      ]
    },
    {
      "cell_type": "markdown",
      "source": [
        "TASK# 3\n",
        "\n",
        "import numpy as np\n",
        "\n",
        "Use Broadcasting to create a 4 x 4 ndarray that has its first column full of 1s, its second column full of 2s, its third column full of 3s, etc.."
      ],
      "metadata": {
        "id": "4vG89a0CQbbz"
      }
    },
    {
      "cell_type": "code",
      "source": [
        "import numpy as np\n",
        "\n",
        "X = np.arange(1,5)[:, np.newaxis] * np.ones((4,4), dtype=int)\n",
        "print(X)\n"
      ],
      "metadata": {
        "colab": {
          "base_uri": "https://localhost:8080/"
        },
        "id": "WtjnMsI6QjmE",
        "outputId": "2737f49e-485d-4834-9f55-c1ed6d62fb86"
      },
      "execution_count": 3,
      "outputs": [
        {
          "output_type": "stream",
          "name": "stdout",
          "text": [
            "[[1 1 1 1]\n",
            " [2 2 2 2]\n",
            " [3 3 3 3]\n",
            " [4 4 4 4]]\n"
          ]
        }
      ]
    }
  ]
}