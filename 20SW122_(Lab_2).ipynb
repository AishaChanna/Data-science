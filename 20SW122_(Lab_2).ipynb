{
  "nbformat": 4,
  "nbformat_minor": 0,
  "metadata": {
    "colab": {
      "provenance": [],
      "authorship_tag": "ABX9TyMTnzMOMNpB5LXAmMJHNTpx",
      "include_colab_link": true
    },
    "kernelspec": {
      "name": "python3",
      "display_name": "Python 3"
    },
    "language_info": {
      "name": "python"
    }
  },
  "cells": [
    {
      "cell_type": "markdown",
      "metadata": {
        "id": "view-in-github",
        "colab_type": "text"
      },
      "source": [
        "<a href=\"https://colab.research.google.com/github/AishaChanna/Data-science/blob/main/20SW122_(Lab_2).ipynb\" target=\"_parent\"><img src=\"https://colab.research.google.com/assets/colab-badge.svg\" alt=\"Open In Colab\"/></a>"
      ]
    },
    {
      "cell_type": "markdown",
      "source": [
        "LAB:2\n",
        "\n",
        "Rollno: 20SW122\n",
        "\n",
        "Section: 2"
      ],
      "metadata": {
        "id": "QgpaVkWQBf5K"
      }
    },
    {
      "cell_type": "markdown",
      "source": [
        "Task# 1\n",
        "\n",
        "Write an if that know competator for prize they have won according to number of point they scored:\n",
        "\n",
        "1 - 50 wooden rabit\n",
        "\n",
        "51 - 150  no prize\n",
        "\n",
        "151 - 180 water-thin mint\n",
        "\n",
        "181 - 200 penguin\n",
        "\n",
        "\n",
        "\n",
        "\n",
        "\n",
        "\n",
        "\n"
      ],
      "metadata": {
        "id": "-2qAFfXsCERa"
      }
    },
    {
      "cell_type": "code",
      "source": [
        "points = 174 # use this input to make your submission\n",
        "result = \"\";\n",
        "\n",
        "if (points>=1 and points <= 50):\n",
        "  result = \"Congrats! you won a wooden rabit\"\n",
        "\n",
        "elif (points>=51 and points <= 150):\n",
        "  result = \"No prize this time\"\n",
        "\n",
        "elif (points>=151 and points <= 180):\n",
        "  result = \"Congrats! you  won a water-thin mint\"\n",
        "elif (points>=181 and points <= 200):\n",
        "  result = \"Congrats! you won a penguin\"\n",
        "else:\n",
        "  result = \"No prize this time\"\n",
        "\n",
        "print(result)"
      ],
      "metadata": {
        "colab": {
          "base_uri": "https://localhost:8080/"
        },
        "id": "c4Oo0wMgC6Wg",
        "outputId": "20506bbe-288c-4e55-aac5-46d9c0fc286a"
      },
      "execution_count": 3,
      "outputs": [
        {
          "output_type": "stream",
          "name": "stdout",
          "text": [
            "Congrats! you  won a water-thin mint\n"
          ]
        }
      ]
    },
    {
      "cell_type": "markdown",
      "source": [
        "TASK# 2\n",
        "\n",
        "Guess My Number\n",
        "You decide you want to play a game where you are hiding a number from someone.\n",
        "Store this number in a variable called 'answer'. Another user provides a number\n",
        "called 'guess'. By comparing guess to answer, you inform the user if their guess is too\n",
        "high or too low."
      ],
      "metadata": {
        "id": "FEfDK4_NEyIy"
      }
    },
    {
      "cell_type": "code",
      "source": [
        "answer =8\n",
        "guess = 4\n",
        "if (answer > guess):\n",
        " result = \"Your guess was low.\"\n",
        "elif (answer < guess):\n",
        " result = \"Your guess was high.\"\n",
        "elif (answer == guess):\n",
        " result = \"Your guess match the answer!\"\n",
        "print(result)"
      ],
      "metadata": {
        "colab": {
          "base_uri": "https://localhost:8080/"
        },
        "id": "0s5BE9P7E7qx",
        "outputId": "56912c55-d26e-4a2f-f601-89e1cad7a757"
      },
      "execution_count": 7,
      "outputs": [
        {
          "output_type": "stream",
          "name": "stdout",
          "text": [
            "Your guess was low.\n"
          ]
        }
      ]
    },
    {
      "cell_type": "markdown",
      "source": [
        "Task# 3\n",
        "\n",
        "Depending on where an individual is from we need to tax them appropriately. The\n",
        "states of CA, MN, and NY have taxes of 7.5%, 9.5%, and 8.9% respectively. Use this\n",
        "information to take the amount of a purchase and the corresponding state to assure\n",
        "that they are taxed by the right amount"
      ],
      "metadata": {
        "id": "bsqhnsxKHCYp"
      }
    },
    {
      "cell_type": "code",
      "source": [
        "state = \"MN\"\n",
        "purchase_amount = 13\n",
        "if state == \"CA\":\n",
        "        tax_amount = .075\n",
        "        total_cost = purchase_amount+purchase_amount*(tax_amount)\n",
        "        result = \"Since you're from {}, your total cost is {}.\".format(state, total_cost)\n",
        "\n",
        "elif state == \"MN\":\n",
        "        tax_amount = .095\n",
        "        total_cost = purchase_amount+purchase_amount*(tax_amount)\n",
        "        result = \"Since you're from {}, your total cost is {}.\".format(state, total_cost)\n",
        "\n",
        "elif state == \"NY\":\n",
        "        tax_amount = .089\n",
        "        total_cost = purchase_amount+purchase_amount*(tax_amount)\n",
        "        result = \"Since you're from {}, your total cost is {}.\".format(state, total_cost)\n",
        "\n",
        "print(result)"
      ],
      "metadata": {
        "colab": {
          "base_uri": "https://localhost:8080/"
        },
        "id": "-ATc2BXXHHDO",
        "outputId": "66715594-7552-41a4-f121-625875ff22b2"
      },
      "execution_count": 8,
      "outputs": [
        {
          "output_type": "stream",
          "name": "stdout",
          "text": [
            "Since you're from MN, your total cost is 14.235.\n"
          ]
        }
      ]
    },
    {
      "cell_type": "markdown",
      "source": [
        "Task# 4\n",
        "\n",
        "Use a for loop to take a list and print each element of the list in its own line.\n",
        "Example:\n",
        "sentence = [\"the\", \"quick\", \"brown\", \"fox\", \"jumped\", \"over\", \"the\",\n",
        "\"lazy\", \"dog\"]\n",
        "Output:\n",
        "the\n",
        "\n",
        "quick\n",
        "\n",
        "brown\n",
        "\n",
        ".."
      ],
      "metadata": {
        "id": "_FIXa46DHipv"
      }
    },
    {
      "cell_type": "code",
      "source": [
        "\n",
        "sentence = [\"the\", \"quick\", \"brown\", \"fox\", \"jumped\", \"over\", \"the\", \"lazy\", \"dog\"]\n",
        "for word in sentence:\n",
        "  print(word)"
      ],
      "metadata": {
        "colab": {
          "base_uri": "https://localhost:8080/"
        },
        "id": "QBJP7Y_WHx7N",
        "outputId": "3d6a4a75-3759-4368-9fd0-964a23743402"
      },
      "execution_count": 10,
      "outputs": [
        {
          "output_type": "stream",
          "name": "stdout",
          "text": [
            "the\n",
            "quick\n",
            "brown\n",
            "fox\n",
            "jumped\n",
            "over\n",
            "the\n",
            "lazy\n",
            "dog\n"
          ]
        }
      ]
    },
    {
      "cell_type": "markdown",
      "source": [
        "Task# 5\n",
        "\n",
        "\n",
        "Multiples of 5\n",
        "Write a for loop below that will print out every whole number that is a multiple of 5\n",
        "and less than or equal to 30\n",
        "This should output:\n",
        "5\n",
        "10\n",
        "15\n",
        "20\n",
        "25\n",
        "30"
      ],
      "metadata": {
        "id": "vMnvk-iMIiEq"
      }
    },
    {
      "cell_type": "code",
      "source": [
        "for i in range(5,35,5):\n",
        "  print(i)"
      ],
      "metadata": {
        "colab": {
          "base_uri": "https://localhost:8080/"
        },
        "id": "Rp7GE62xIrhc",
        "outputId": "9d039751-2fce-4a0e-d903-ac1cf88bc962"
      },
      "execution_count": 11,
      "outputs": [
        {
          "output_type": "stream",
          "name": "stdout",
          "text": [
            "5\n",
            "10\n",
            "15\n",
            "20\n",
            "25\n",
            "30\n"
          ]
        }
      ]
    },
    {
      "cell_type": "markdown",
      "source": [
        "Task# 6\n",
        "\n",
        "Extract First Names\n",
        "Use a list comprehension to create a new list first_names containing just the first\n",
        "names in names in lowercase."
      ],
      "metadata": {
        "id": "woiv1w7PIytF"
      }
    },
    {
      "cell_type": "code",
      "source": [
        "names = [\"Rick Sanchez\", \"Morty Smith\", \"Summer Smith\", \"Jerry Smith\", \"Beth Smith\"]\n",
        "first_names = [name.lower().split()[0] for name in names]# write your list comprehension here\n",
        "print(first_names)"
      ],
      "metadata": {
        "colab": {
          "base_uri": "https://localhost:8080/"
        },
        "id": "WnxkaHahI5yf",
        "outputId": "8949ada8-9549-478f-e7a7-84f81fefa841"
      },
      "execution_count": 20,
      "outputs": [
        {
          "output_type": "stream",
          "name": "stdout",
          "text": [
            "['rick', 'morty', 'summer', 'jerry', 'beth']\n"
          ]
        }
      ]
    },
    {
      "cell_type": "markdown",
      "source": [
        "Task# 7\n",
        "\n",
        "Use a list comprehension to create a list multiples_3 containing the first 20\n",
        "multiples of 3.\n",
        "multiples_3 = # write your list comprehension here\n",
        "print(multiples_3)"
      ],
      "metadata": {
        "id": "d2lXYZA3JTp_"
      }
    },
    {
      "cell_type": "code",
      "source": [
        "multiples_3 = [x for x in range(3,3*20+1,3)]\n",
        "print(multiples_3)"
      ],
      "metadata": {
        "colab": {
          "base_uri": "https://localhost:8080/"
        },
        "id": "zLatpTmaJoRx",
        "outputId": "67e187d2-23d5-4a4f-97a4-15a81c5f4651"
      },
      "execution_count": 15,
      "outputs": [
        {
          "output_type": "stream",
          "name": "stdout",
          "text": [
            "[3, 6, 9, 12, 15, 18, 21, 24, 27, 30, 33, 36, 39, 42, 45, 48, 51, 54, 57, 60]\n"
          ]
        }
      ]
    },
    {
      "cell_type": "markdown",
      "source": [
        "Task# 8\n",
        "\n",
        "Filter Names by Scores\n",
        "Use a list comprehension to create a list of names passed that only include those\n",
        "that scored at least 65"
      ],
      "metadata": {
        "id": "ZSiFqDnUJ_Yu"
      }
    },
    {
      "cell_type": "code",
      "source": [
        "scores = {\n",
        " \"Rick Sanchez\": 70,\n",
        " \"Morty Smith\": 35,\n",
        " \"Summer Smith\": 82,\n",
        " \"Jerry Smith\": 23,\n",
        " \"Beth Smith\": 98\n",
        " }\n",
        "passed =[name for name, score in scores.items() if score >= 65]# write your list comprehension here\n",
        "print(passed)"
      ],
      "metadata": {
        "colab": {
          "base_uri": "https://localhost:8080/"
        },
        "id": "6ygHQw-cKFAN",
        "outputId": "117963cd-a302-4935-d5b3-d9432e7ed5c2"
      },
      "execution_count": 21,
      "outputs": [
        {
          "output_type": "stream",
          "name": "stdout",
          "text": [
            "['Rick Sanchez', 'Summer Smith', 'Beth Smith']\n"
          ]
        }
      ]
    },
    {
      "cell_type": "markdown",
      "source": [
        "Task# 9\n",
        "\n",
        "Use zip to create a dictionary cast that uses names as keys and heights as\n",
        "values.\n"
      ],
      "metadata": {
        "id": "kDD3JZaFKlK_"
      }
    },
    {
      "cell_type": "code",
      "source": [
        "cast_names = [\"Barney\", \"Robin\", \"Ted\", \"Lily\", \"Marshall\"]\n",
        "cast_heights = [72, 68, 72, 66, 76]\n",
        "cast = dict(zip(cast_names, cast_heights))\n",
        "print(cast)"
      ],
      "metadata": {
        "colab": {
          "base_uri": "https://localhost:8080/"
        },
        "id": "bLkTVi8xKsZU",
        "outputId": "6121f6dc-3b70-440f-8a3a-8167c3a15146"
      },
      "execution_count": 22,
      "outputs": [
        {
          "output_type": "stream",
          "name": "stdout",
          "text": [
            "{'Barney': 72, 'Robin': 68, 'Ted': 72, 'Lily': 66, 'Marshall': 76}\n"
          ]
        }
      ]
    },
    {
      "cell_type": "markdown",
      "source": [
        "Task# 10\n",
        "\n",
        "Use enumerate to modify the cast list so that each element contains the\n",
        "name followed by the character's corresponding height. For example, the first\n",
        "element of cast should change from \"Barney Stinson\" to \"Barney Stinson\n",
        "72\".\n"
      ],
      "metadata": {
        "id": "Vebqms4bLKU7"
      }
    },
    {
      "cell_type": "code",
      "source": [
        "cast = [\"Barney Stinson\", \"Robin Scherbatsky\", \"Ted Mosby\",\n",
        "\"Lily Aldrin\", \"Marshall Eriksen\"]\n",
        "heights = [72, 68, 72, 66, 76]\n",
        "# for loop here\n",
        "for index, height in enumerate(heights):\n",
        "    s = \"{} {}\".format(cast[index], height)\n",
        "    cast[index] = s\n",
        "print(cast)"
      ],
      "metadata": {
        "colab": {
          "base_uri": "https://localhost:8080/"
        },
        "id": "S_wwEPvBLO8s",
        "outputId": "f21c2ee4-f88e-4e3f-ab00-46a9c47712c6"
      },
      "execution_count": 19,
      "outputs": [
        {
          "output_type": "stream",
          "name": "stdout",
          "text": [
            "['Barney Stinson 72', 'Robin Scherbatsky 68', 'Ted Mosby 72', 'Lily Aldrin 66', 'Marshall Eriksen 76']\n"
          ]
        }
      ]
    }
  ]
}